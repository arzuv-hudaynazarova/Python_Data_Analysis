{
 "cells": [
  {
   "cell_type": "code",
   "execution_count": 11,
   "metadata": {
    "collapsed": true
   },
   "outputs": [],
   "source": [
    "import requests\n",
    "import pandas as pd"
   ]
  },
  {
   "cell_type": "code",
   "execution_count": 12,
   "outputs": [],
   "source": [
    "url = 'https://api.github.com/search/repositories?q=language:python&sort=stars&order=desc'"
   ],
   "metadata": {
    "collapsed": false
   }
  },
  {
   "cell_type": "code",
   "execution_count": 13,
   "outputs": [],
   "source": [
    "res = requests.get(url)\n",
    "res_dict = res.json()"
   ],
   "metadata": {
    "collapsed": false
   }
  },
  {
   "cell_type": "code",
   "execution_count": 14,
   "outputs": [],
   "source": [
    "repos = res_dict['items']"
   ],
   "metadata": {
    "collapsed": false
   }
  },
  {
   "cell_type": "code",
   "execution_count": 15,
   "outputs": [],
   "source": [
    "repo_df = pd.DataFrame(repos, columns=['name', 'full_name', 'html_url', 'created_at', 'stargazers_count', 'watchers', 'forks', 'open_issues'])\n",
    "repo_df['created_at'] = pd.to_datetime(repo_df['created_at'])\n",
    "repo_df['created_year'] = repo_df['created_at'].dt.year\n",
    "repo_df['years_on_github'] = 2023 - repo_df['created_at'].dt.year"
   ],
   "metadata": {
    "collapsed": false
   }
  },
  {
   "cell_type": "code",
   "execution_count": 19,
   "outputs": [
    {
     "name": "stdout",
     "output_type": "stream",
     "text": [
      "                             name                                  full_name  \\\n",
      "0                  awesome-python                       vinta/awesome-python   \n",
      "1                      youtube-dl                        ytdl-org/youtube-dl   \n",
      "2                           flask                              pallets/flask   \n",
      "3                           keras                           keras-team/keras   \n",
      "4                         ansible                            ansible/ansible   \n",
      "5                         cpython                             python/cpython   \n",
      "6                           manim                                 3b1b/manim   \n",
      "7     big-list-of-naughty-strings      minimaxir/big-list-of-naughty-strings   \n",
      "8                            rich                            Textualize/rich   \n",
      "9                        sherlock                  sherlock-project/sherlock   \n",
      "10                      openpilot                          commaai/openpilot   \n",
      "11                         pandas                          pandas-dev/pandas   \n",
      "12                     ailearning                        apachecn/ailearning   \n",
      "13   interview_internal_reference        0voice/interview_internal_reference   \n",
      "14                           bert                       google-research/bert   \n",
      "15              python-cheatsheet                    gto76/python-cheatsheet   \n",
      "16                          black                                  psf/black   \n",
      "17                            gym                                 openai/gym   \n",
      "18                        certbot                            certbot/certbot   \n",
      "19                  linux-insides                         0xAX/linux-insides   \n",
      "20                         GFPGAN                          TencentARC/GFPGAN   \n",
      "21  interactive-coding-challenges  donnemartin/interactive-coding-challenges   \n",
      "22                         sqlmap                       sqlmapproject/sqlmap   \n",
      "23               pytorch-tutorial                    yunjey/pytorch-tutorial   \n",
      "24                  YouCompleteMe                     ycm-core/YouCompleteMe   \n",
      "25                         poetry                       python-poetry/poetry   \n",
      "26                    python-fire                         google/python-fire   \n",
      "27                     detectron2                facebookresearch/detectron2   \n",
      "28                         pipenv                                pypa/pipenv   \n",
      "29                    mmdetection                     open-mmlab/mmdetection   \n",
      "\n",
      "                                             html_url  \\\n",
      "0             https://github.com/vinta/awesome-python   \n",
      "1              https://github.com/ytdl-org/youtube-dl   \n",
      "2                    https://github.com/pallets/flask   \n",
      "3                 https://github.com/keras-team/keras   \n",
      "4                  https://github.com/ansible/ansible   \n",
      "5                   https://github.com/python/cpython   \n",
      "6                       https://github.com/3b1b/manim   \n",
      "7   https://github.com/minimaxir/big-list-of-naugh...   \n",
      "8                  https://github.com/Textualize/rich   \n",
      "9        https://github.com/sherlock-project/sherlock   \n",
      "10               https://github.com/commaai/openpilot   \n",
      "11               https://github.com/pandas-dev/pandas   \n",
      "12             https://github.com/apachecn/ailearning   \n",
      "13  https://github.com/0voice/interview_internal_r...   \n",
      "14            https://github.com/google-research/bert   \n",
      "15         https://github.com/gto76/python-cheatsheet   \n",
      "16                       https://github.com/psf/black   \n",
      "17                      https://github.com/openai/gym   \n",
      "18                 https://github.com/certbot/certbot   \n",
      "19              https://github.com/0xAX/linux-insides   \n",
      "20               https://github.com/TencentARC/GFPGAN   \n",
      "21  https://github.com/donnemartin/interactive-cod...   \n",
      "22            https://github.com/sqlmapproject/sqlmap   \n",
      "23         https://github.com/yunjey/pytorch-tutorial   \n",
      "24          https://github.com/ycm-core/YouCompleteMe   \n",
      "25            https://github.com/python-poetry/poetry   \n",
      "26              https://github.com/google/python-fire   \n",
      "27     https://github.com/facebookresearch/detectron2   \n",
      "28                     https://github.com/pypa/pipenv   \n",
      "29          https://github.com/open-mmlab/mmdetection   \n",
      "\n",
      "                  created_at  stargazers_count  watchers  forks  open_issues  \\\n",
      "0  2014-06-27 21:00:06+00:00            159488    159488  22684          329   \n",
      "1  2010-10-31 14:35:07+00:00            118624    118624   8741         4733   \n",
      "2  2010-04-06 11:11:59+00:00             62161     62161  15480            3   \n",
      "3  2015-03-28 00:35:42+00:00             57542     57542  19303          374   \n",
      "4  2012-03-06 14:58:02+00:00             56573     56573  23090          975   \n",
      "5  2017-02-10 19:23:51+00:00             51132     51132  26058         8291   \n",
      "6  2015-03-22 18:50:58+00:00             50020     50020   5218          358   \n",
      "7  2015-08-08 20:57:20+00:00             44639     44639   2122           96   \n",
      "8  2019-11-10 15:28:09+00:00             42428     42428   1515           99   \n",
      "9  2018-12-24 14:30:48+00:00             39555     39555   4705          117   \n",
      "10 2016-11-24 01:33:30+00:00             38924     38924   7078          368   \n",
      "11 2010-08-24 01:37:33+00:00             37184     37184  15898         3684   \n",
      "12 2017-02-25 08:53:02+00:00             34793     34793  11024            3   \n",
      "13 2019-06-10 06:54:19+00:00             34579     34579   9255           30   \n",
      "14 2018-10-25 22:57:34+00:00             33403     33403   9076          867   \n",
      "15 2018-01-25 04:16:53+00:00             31816     31816   5847           26   \n",
      "16 2018-03-14 19:54:45+00:00             31610     31610   2033          393   \n",
      "17 2016-04-27 14:59:16+00:00             30315     30315   8273           45   \n",
      "18 2014-11-12 02:52:20+00:00             29701     29701   3332          544   \n",
      "19 2015-01-03 18:44:57+00:00             27904     27904   3173           25   \n",
      "20 2021-03-19 06:18:20+00:00             27152     27152   4205          200   \n",
      "21 2015-04-28 21:36:39+00:00             27021     27021   4329           70   \n",
      "22 2012-06-26 09:52:15+00:00             26352     26352   5185           60   \n",
      "23 2017-03-10 07:41:47+00:00             25854     25854   7611           88   \n",
      "24 2012-04-16 03:12:14+00:00             24640     24640   2796           16   \n",
      "25 2018-02-28 15:23:47+00:00             24121     24121   1926          691   \n",
      "26 2017-02-21 21:35:07+00:00             24116     24116   1370          133   \n",
      "27 2019-09-05 21:30:20+00:00             23822     23822   6520          339   \n",
      "28 2017-01-20 00:44:02+00:00             23668     23668   1823          190   \n",
      "29 2018-08-22 07:06:06+00:00             23278     23278   8423          645   \n",
      "\n",
      "    created_year  years_on_github  \n",
      "0           2014                9  \n",
      "1           2010               13  \n",
      "2           2010               13  \n",
      "3           2015                8  \n",
      "4           2012               11  \n",
      "5           2017                6  \n",
      "6           2015                8  \n",
      "7           2015                8  \n",
      "8           2019                4  \n",
      "9           2018                5  \n",
      "10          2016                7  \n",
      "11          2010               13  \n",
      "12          2017                6  \n",
      "13          2019                4  \n",
      "14          2018                5  \n",
      "15          2018                5  \n",
      "16          2018                5  \n",
      "17          2016                7  \n",
      "18          2014                9  \n",
      "19          2015                8  \n",
      "20          2021                2  \n",
      "21          2015                8  \n",
      "22          2012               11  \n",
      "23          2017                6  \n",
      "24          2012               11  \n",
      "25          2018                5  \n",
      "26          2017                6  \n",
      "27          2019                4  \n",
      "28          2017                6  \n",
      "29          2018                5  \n"
     ]
    }
   ],
   "source": [
    "print(repo_df)"
   ],
   "metadata": {
    "collapsed": false
   }
  },
  {
   "cell_type": "code",
   "execution_count": 18,
   "outputs": [],
   "source": [
    "repo_df.to_csv('github_repos.csv', index=False)"
   ],
   "metadata": {
    "collapsed": false
   }
  },
  {
   "cell_type": "code",
   "execution_count": 17,
   "outputs": [],
   "source": [],
   "metadata": {
    "collapsed": false
   }
  }
 ],
 "metadata": {
  "kernelspec": {
   "display_name": "Python 3",
   "language": "python",
   "name": "python3"
  },
  "language_info": {
   "codemirror_mode": {
    "name": "ipython",
    "version": 2
   },
   "file_extension": ".py",
   "mimetype": "text/x-python",
   "name": "python",
   "nbconvert_exporter": "python",
   "pygments_lexer": "ipython2",
   "version": "2.7.6"
  }
 },
 "nbformat": 4,
 "nbformat_minor": 0
}
